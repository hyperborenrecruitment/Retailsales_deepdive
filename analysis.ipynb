{
 "cells": [
  {
   "cell_type": "markdown",
   "id": "cdda2cc2",
   "metadata": {},
   "source": [
    "# RetailSales DeepDive Notebook"
   ]
  },
  {
   "cell_type": "markdown",
   "id": "a96e1f6b",
   "metadata": {},
   "source": [
    "Basic analysis notebook for visualization and logic demonstration."
   ]
  },
  {
   "cell_type": "code",
   "execution_count": null,
   "id": "a42c064d",
   "metadata": {},
   "outputs": [],
   "source": [
    "\n",
    "import pandas as pd\n",
    "import matplotlib.pyplot as plt\n",
    "\n",
    "df = pd.read_csv(\"third_rome_sales.csv\")\n",
    "category_sales = df.groupby(\"product_category\")[\"revenue_usd\"].sum().sort_values()\n",
    "\n",
    "category_sales.plot(kind='barh', figsize=(10,6), title='Revenue by Product Category')\n",
    "plt.xlabel(\"Revenue ($)\")\n",
    "plt.tight_layout()\n",
    "plt.show()\n"
   ]
  }
 ],
 "metadata": {},
 "nbformat": 4,
 "nbformat_minor": 5
}
